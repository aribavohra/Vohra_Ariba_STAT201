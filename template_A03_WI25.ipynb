{
 "cells": [
  {
   "cell_type": "raw",
   "metadata": {
    "vscode": {
     "languageId": "raw"
    }
   },
   "source": [
    "---\n",
    "title: \"Assignment 3\"\n",
    "subtitle: \"STAT 201\"\n",
    "author: \"Ariba Vohra\"\n",
    "format:\n",
    "  html:\n",
    "    toc: true\n",
    "    embed-resources: true\n",
    "jupyter: python3\n",
    "---"
   ]
  },
  {
   "cell_type": "markdown",
   "metadata": {},
   "source": [
    "### Instructions"
   ]
  },
  {
   "cell_type": "markdown",
   "metadata": {},
   "source": [
    "1. **Write your name** on the assignment.\n",
    "\n",
    "2. Write your code in the *Code* cells of the **template provided** to write solutions for the assignment. **Do not open a new notebook**, and work from scratch. Ensure that the solution is written neatly enough to understand and grade.\n",
    "\n",
    "3. Use [Quarto](https://quarto.org/docs/output-formats/html-basics.html) to print the *.ipynb* file as HTML. You will need to open the command prompt, navigate to the directory containing the file, and use the command: `quarto render filename.ipynb --to html`. Submit the HTML file.\n",
    "\n",
    "4. You may talk to a friend, discuss the questions and potential directions for solving them. However, you need to write your own solutions and code separately, and not as a group activity. Do not use AI to solve the problems.\n",
    "\n",
    "5. If your document is not clean and organized, you can lose up to 2 points:\n",
    "\n",
    "    - Must be an HTML file rendered using Quarto. \n",
    "    - There aren’t excessively long outputs of extraneous information (e.g. no printouts of unnecessary results without good reason, there aren’t long printouts of which iteration a loop is on, there aren’t long sections of commented-out code, etc.). There is no piece of unnecessary / redundant code, and no unnecessary / redundant text\n",
    "    - The code follows the [python style guide](https://peps.python.org/pep-0008/) for naming variables, spaces, indentation, etc.\n",
    "    - The code should be commented and clearly written with intuitive variable names. For example, use variable names such as number_input, factor, hours, instead of a,b,xyz, etc."
   ]
  },
  {
   "cell_type": "markdown",
   "metadata": {},
   "source": [
    "## Question 1 (5 points)"
   ]
  },
  {
   "cell_type": "markdown",
   "metadata": {},
   "source": [
    "a. Create a tuple called `my_data` that contains the following elements: `'dog', 9, True, 2, 8, 'cat', 3`"
   ]
  },
  {
   "cell_type": "code",
   "execution_count": 2,
   "metadata": {},
   "outputs": [],
   "source": [
    "#A\n",
    "my_data=(\"dog\", 9, True,2,8,\"cat\", 3) \n",
    "\n",
    "\n",
    "                                                                                                                                                                     "
   ]
  },
  {
   "cell_type": "markdown",
   "metadata": {},
   "source": [
    "b. Unpack **only the string** elements in `my_data`. You can store these elements by any variable name of your choice. Print the variables."
   ]
  },
  {
   "cell_type": "code",
   "execution_count": 3,
   "metadata": {},
   "outputs": [
    {
     "name": "stdout",
     "output_type": "stream",
     "text": [
      "dog\n",
      "cat\n"
     ]
    }
   ],
   "source": [
    "#B\n",
    "string_elements = [item for item in my_data if isinstance(item, str)]\n",
    "string1, string2= string_elements\n",
    "print(string1)\n",
    "print(string2)"
   ]
  },
  {
   "cell_type": "markdown",
   "metadata": {},
   "source": [
    "c. Convert `my_data` to a list object. Then use indexing **in 2 different ways** to print the second object in your list. Note: that means you will have the same object (`9`) being printed out twice."
   ]
  },
  {
   "cell_type": "code",
   "execution_count": 4,
   "metadata": {},
   "outputs": [
    {
     "name": "stdout",
     "output_type": "stream",
     "text": [
      "9\n",
      "9\n"
     ]
    }
   ],
   "source": [
    "my_data_list=list(my_data)\n",
    "print(my_data_list[1])\n",
    "print(my_data_list[-6])"
   ]
  },
  {
   "cell_type": "markdown",
   "metadata": {},
   "source": [
    "d. Use a loop to remove any elements in `my_data` that are NOT integers. Print `my_data` to prove you were successful.\n",
    "\n",
    "Note: This needs to be a loop that would work even if you changed the elements in `my_data`."
   ]
  },
  {
   "cell_type": "code",
   "execution_count": 6,
   "metadata": {},
   "outputs": [
    {
     "name": "stdout",
     "output_type": "stream",
     "text": [
      "(9, 2, 8, 3)\n"
     ]
    }
   ],
   "source": [
    "my_data_list = list(my_data)\n",
    "my_data_list = [item for item in my_data_list if isinstance(item, int) and item is not True]\n",
    "my_data = tuple(my_data_list)  \n",
    "print(my_data)"
   ]
  },
  {
   "cell_type": "markdown",
   "metadata": {},
   "source": [
    "e. Write a function that takes a list of integers as an input and returns both the minimum and maximum value. **Store the output** of the function when it is run with `my_data` from part d. **Print** your stored variables **in a sentence** to prove you were successful. This sentence should be the only thing printed."
   ]
  },
  {
   "cell_type": "code",
   "execution_count": 8,
   "metadata": {},
   "outputs": [
    {
     "name": "stdout",
     "output_type": "stream",
     "text": [
      "Minimum value is  2  and the Maximum value is  9\n"
     ]
    }
   ],
   "source": [
    "def find_min_max(data):\n",
    "    min_value = min(data)\n",
    "    max_value = max(data)\n",
    "    return min_value, max_value \n",
    "min_value, max_value = find_min_max(my_data)\n",
    "print(\"Minimum value is \", min_value, \" and the Maximum value is \", max_value)\n"
   ]
  },
  {
   "cell_type": "markdown",
   "metadata": {},
   "source": [
    "## Question 2 (2 points)"
   ]
  },
  {
   "cell_type": "markdown",
   "metadata": {},
   "source": [
    "Create a shopping list by **asking the user** for a grocery item to add to the **list object**. \n",
    "\n",
    "Continue asking the user for items until the user types \"done\".\n",
    "\n",
    "**Only once the user is \"done\"**, print the grocery list.\n",
    "\n",
    "Run your program with at least 3 items added to your list."
   ]
  },
  {
   "cell_type": "code",
   "execution_count": 12,
   "metadata": {},
   "outputs": [
    {
     "name": "stdout",
     "output_type": "stream",
     "text": [
      "Your grocery list is:\n",
      "apple\n",
      "orange\n",
      "choclate\n"
     ]
    }
   ],
   "source": [
    "grocery_list = []\n",
    "grocery_item = input(\"Enter a grocery item (or type 'done' to finish): \")\n",
    "while grocery_item.lower() != 'done':\n",
    "    grocery_list.append(grocery_item)\n",
    "    grocery_item = input(\"Enter a grocery item (or type 'done' to finish): \")\n",
    "\n",
    "print(\"Your grocery list is:\")\n",
    "for item in grocery_list:\n",
    "    print(item)\n",
    "\n",
    "\n"
   ]
  },
  {
   "cell_type": "markdown",
   "metadata": {},
   "source": [
    "## Question 3 (2 points)"
   ]
  },
  {
   "cell_type": "markdown",
   "metadata": {},
   "source": [
    "**Ask the user** for a grocery item and the price of the item (2 inputs).\n",
    "\n",
    "Create a `dictionary` where the grocery item is the key and the price is the value. \n",
    "\n",
    "Continue asking the user for items and prices until the user types \"done\".\n",
    "\n",
    "**Only once the user is \"done\"**, print the object.\n",
    "\n",
    "Run your program with at least 3 entries."
   ]
  },
  {
   "cell_type": "code",
   "execution_count": 15,
   "metadata": {},
   "outputs": [
    {
     "name": "stdout",
     "output_type": "stream",
     "text": [
      "\n",
      "Your grocery list with prices:\n",
      "apple: $2.00\n",
      "corn: $3.00\n",
      "candy: $1.00\n"
     ]
    }
   ],
   "source": [
    "grocery_dict = {}\n",
    "\n",
    "grocery_item = input(\"Enter a grocery item (or type 'done' to finish): \")\n",
    "while grocery_item.lower() != 'done':\n",
    "    try:\n",
    "        price = float(input(f\"Enter the price for {grocery_item}: \"))\n",
    "        grocery_dict[grocery_item] = price\n",
    "    except ValueError:\n",
    "        print(\"Invalid price. Please enter a numeric value.\")\n",
    "    grocery_item = input(\"Enter a grocery item (or type 'done' to finish): \")\n",
    "\n",
    "print(\"\\nYour grocery list with prices:\")\n",
    "for item, price in grocery_dict.items():\n",
    "    print(f\"{item}: ${price:.2f}\")"
   ]
  },
  {
   "cell_type": "markdown",
   "metadata": {},
   "source": [
    "## Question 4 (2 points)\n",
    "Get a list of numbers as input from a user and calculate the sum of it\n",
    "2 numbers are separated by a whitespace. "
   ]
  },
  {
   "cell_type": "code",
   "execution_count": 17,
   "metadata": {},
   "outputs": [
    {
     "name": "stdout",
     "output_type": "stream",
     "text": [
      "The sum of the numbers is: 30\n"
     ]
    }
   ],
   "source": [
    "numbers=input(\"Enter a list of numbers separated by spaces: \").split()\n",
    "numbers=[int(num) for num in numbers]\n",
    "total=sum(numbers)\n",
    "print(\"The sum of the numbers is:\", total)"
   ]
  },
  {
   "cell_type": "markdown",
   "metadata": {},
   "source": [
    "## Question 5 (4 points)"
   ]
  },
  {
   "cell_type": "markdown",
   "metadata": {},
   "source": [
    "The `score` list below contains the credit score for an individual at the end of the year and the `year` list contains the corresponding year. ie: at the end of 2010 the individual had a credit score of 680."
   ]
  },
  {
   "cell_type": "code",
   "execution_count": null,
   "metadata": {},
   "outputs": [],
   "source": [
    "score = [680, 685, 695, 690, 715, 720, 710]\n",
    "year = [2010, 2011, 2012, 2014, 2015, 2016, 2017]"
   ]
  },
  {
   "cell_type": "markdown",
   "metadata": {},
   "source": [
    "### Part a (1 point)"
   ]
  },
  {
   "cell_type": "markdown",
   "metadata": {},
   "source": [
    "The information for 2013 is missing. In `year`, insert the year 2013 between 2012 and 2014. In `score`, insert the credit score of 2013 as the average of the credit score of 2012 and 2014 (use indexing - never use fixed values if it can be avoided). Print `year` and `score` to prove you were successful."
   ]
  },
  {
   "cell_type": "code",
   "execution_count": 22,
   "metadata": {},
   "outputs": [
    {
     "name": "stdout",
     "output_type": "stream",
     "text": [
      "Year: [2010, 2011, 2012, 2013, 2014, 2015, 2016, 2017]\n",
      "Score: [680, 685, 695, 692.5, 690, 715, 720, 710]\n"
     ]
    }
   ],
   "source": [
    "score = [680, 685, 695, 690, 715, 720, 710]\n",
    "year = [2010, 2011, 2012, 2014, 2015, 2016, 2017]\n",
    "year.insert(3, 2013)\n",
    "score.insert(3, (score[2] + score[3]) / 2)\n",
    "print(\"Year:\", year)\n",
    "print(\"Score:\", score)"
   ]
  },
  {
   "cell_type": "markdown",
   "metadata": {},
   "source": [
    "### Part b (3 points)"
   ]
  },
  {
   "cell_type": "markdown",
   "metadata": {},
   "source": [
    "Determine which year had the largest percentage increase in credit score. Round your percent to 2 decimal places (0.00%). \n",
    "\n",
    "For example, the percent change in 2011 is equal to 100*(685 - 680)/680 = 0.74%.\n",
    "\n",
    "There are MANY ways to accomplish this and you may do so using any techniques we have learned so long as you are using code.\n",
    "\n",
    "**Print only the sentence**: \n",
    "\n",
    "                    \"The individual had the largest increase in {year} of {change} percent.\"\n",
    "                    \n",
    "For example if the largest increase happened to be in 2011 (it didn't):\n",
    "\n",
    "                    \"The individual had the largest increase in 2011 of 0.74 percent.\""
   ]
  },
  {
   "cell_type": "code",
   "execution_count": 24,
   "metadata": {},
   "outputs": [
    {
     "name": "stdout",
     "output_type": "stream",
     "text": [
      "The individual had the largest increase in 2015 of 3.62 percent.\n"
     ]
    }
   ],
   "source": [
    "score = [680, 685, 695, 692.5, 690, 715, 720, 710]\n",
    "year = [2010, 2011, 2012, 2013, 2014, 2015, 2016, 2017]\n",
    "largest_increase = 0\n",
    "largest_year = 0 \n",
    "for i in range(len(score)):\n",
    "    percent_change= 100*(score[i] - score[i-1]) / score[i-1]   \n",
    "    if percent_change > 0:\n",
    "        if percent_change > largest_increase:\n",
    "            largest_increase = percent_change\n",
    "            largest_year = year[i]\n",
    "print(f\"The individual had the largest increase in {largest_year} of {round(largest_increase, 2)} percent.\")"
   ]
  },
  {
   "cell_type": "markdown",
   "metadata": {},
   "source": [
    "## Question 6 (4 points)"
   ]
  },
  {
   "cell_type": "markdown",
   "metadata": {},
   "source": [
    "Suppose 4 individuals are trying to decide which toppings to put on a shared pizza.\n",
    "\n",
    "The `pizza` dictionary below contains the names of the individuals and list of corresponding topping preferences."
   ]
  },
  {
   "cell_type": "code",
   "execution_count": null,
   "metadata": {},
   "outputs": [],
   "source": [
    "pizza = {\n",
    "    'Ava': [\"sausage\", \"mushroom\", \"bacon\"],\n",
    "    'Billy': [\"pepperoni\", \"bacon\", \"sausage\", \"olives\"],\n",
    "    'Carol': [\"ham\", \"pineapple\", \"olives\", \"mushroom\"],\n",
    "    'David': [\"pepperoni\", \"bacon\", \"mushroom\", \"green pepper\", \"mushroom\"]\n",
    "}"
   ]
  },
  {
   "cell_type": "markdown",
   "metadata": {},
   "source": [
    "If at least 3 individuals listed a topping it will be included on the shared pizza.\n",
    "\n",
    "Create a **list** of the toppings that at least 3 individuals included as a preference.\n",
    "**Print only this list object.**\n",
    "\n",
    "There are MANY ways to accomplish this and you may do so using any techniques we have learned so long as you are using code."
   ]
  },
  {
   "cell_type": "code",
   "execution_count": 26,
   "metadata": {},
   "outputs": [
    {
     "name": "stdout",
     "output_type": "stream",
     "text": [
      "Toppings that everyone ordered: ['mushroom']\n"
     ]
    }
   ],
   "source": [
    "pizza = {\n",
    "    'Ava': [\"sausage\", \"mushroom\", \"bacon\"],\n",
    "    'Billy': [\"pepperoni\", \"bacon\", \"sausage\", \"olives\"],\n",
    "    'Carol': [\"ham\", \"pineapple\", \"olives\", \"mushroom\"],\n",
    "    'David': [\"pepperoni\", \"bacon\", \"mushroom\", \"green pepper\", \"mushroom\"]\n",
    "}\n",
    "topping_dict={}\n",
    "for toppings in pizza.values():\n",
    "    for topping in toppings:\n",
    "        if topping in topping_dict:\n",
    "            topping_dict[topping] += 1\n",
    "        else:\n",
    "            topping_dict[topping] = 1\n",
    "same_topping = [topping for topping, count in topping_dict.items() if count == len(pizza)]\n",
    "print(\"Toppings that everyone ordered:\", same_topping)"
   ]
  },
  {
   "cell_type": "markdown",
   "metadata": {},
   "source": [
    "## Question 7 (11 points)"
   ]
  },
  {
   "cell_type": "markdown",
   "metadata": {},
   "source": [
    "### Part a (1 point)"
   ]
  },
  {
   "cell_type": "markdown",
   "metadata": {},
   "source": [
    "Create a list called `suits` that contains the following elements: \"hearts\", \"spades\", \"diamonds\", \"clubs\"\n",
    "    \n",
    "Create a list called `numbers` that contain the following elements: 2, 3, 4, 5, 6, 7, 8, 9, 10, \"J\", \"Q\", \"K\", \"A\"\n",
    "\n",
    "No need to print any output here."
   ]
  },
  {
   "cell_type": "code",
   "execution_count": 27,
   "metadata": {},
   "outputs": [],
   "source": [
    "suits=['Hearts', 'Diamonds', 'Clubs', 'Spades']\n",
    "numbers=['2', '3', '4', '5', '6', '7', '8', '9', '10', 'J', 'Q', 'K', 'A']"
   ]
  },
  {
   "cell_type": "markdown",
   "metadata": {},
   "source": [
    "### Part b (3 points)"
   ]
  },
  {
   "cell_type": "markdown",
   "metadata": {},
   "source": [
    "Use a **nested loop** to create a nested data structure called `deck` that is a **list of dictionaries**. \n",
    "\n",
    "This data structure should contain every combination of `suits` and `numbers` created in **Part a**. \n",
    "\n",
    "Clarification: \n",
    "\n",
    "- This list should contain 52 dictionaries each representing a card. \n",
    "- Each dictionary will have a key for `suit` and `value`.\n",
    "- Example: The first object in the list is {'suit': 'hearts', 'value': 2}\n",
    "\n",
    "Print only your `deck` object."
   ]
  },
  {
   "cell_type": "code",
   "execution_count": 28,
   "metadata": {},
   "outputs": [
    {
     "name": "stdout",
     "output_type": "stream",
     "text": [
      "['2 of Hearts', '3 of Hearts', '4 of Hearts', '5 of Hearts', '6 of Hearts', '7 of Hearts', '8 of Hearts', '9 of Hearts', '10 of Hearts', 'J of Hearts', 'Q of Hearts', 'K of Hearts', 'A of Hearts', '2 of Diamonds', '3 of Diamonds', '4 of Diamonds', '5 of Diamonds', '6 of Diamonds', '7 of Diamonds', '8 of Diamonds', '9 of Diamonds', '10 of Diamonds', 'J of Diamonds', 'Q of Diamonds', 'K of Diamonds', 'A of Diamonds', '2 of Clubs', '3 of Clubs', '4 of Clubs', '5 of Clubs', '6 of Clubs', '7 of Clubs', '8 of Clubs', '9 of Clubs', '10 of Clubs', 'J of Clubs', 'Q of Clubs', 'K of Clubs', 'A of Clubs', '2 of Spades', '3 of Spades', '4 of Spades', '5 of Spades', '6 of Spades', '7 of Spades', '8 of Spades', '9 of Spades', '10 of Spades', 'J of Spades', 'Q of Spades', 'K of Spades', 'A of Spades']\n"
     ]
    }
   ],
   "source": [
    "deck=[]\n",
    "for suit in suits:\n",
    "    for number in numbers:\n",
    "        deck.append(number + \" of \" + suit)\n",
    "print(deck)"
   ]
  },
  {
   "cell_type": "markdown",
   "metadata": {},
   "source": [
    "### Part c (1 point)"
   ]
  },
  {
   "cell_type": "markdown",
   "metadata": {},
   "source": [
    "Import the `random` module and name the alias `rm`. Use the `sample()` function from this module to **sample 2 cards** from the `deck` you created in **Part b**. Assign the first object to `player1` and the second object to `player2`.\n",
    "\n",
    "Print `player1` and `player2`'s cards to prove you were successful."
   ]
  },
  {
   "cell_type": "code",
   "execution_count": 29,
   "metadata": {},
   "outputs": [
    {
     "name": "stdout",
     "output_type": "stream",
     "text": [
      "Player 1's card: 5 of Hearts\n",
      "Player 2's card: 5 of Diamonds\n"
     ]
    }
   ],
   "source": [
    "import random as rm \n",
    "player1, player2=rm.sample(deck, 2)\n",
    "print(\"Player 1's card:\", player1)\n",
    "print(\"Player 2's card:\", player2)"
   ]
  },
  {
   "cell_type": "markdown",
   "metadata": {},
   "source": [
    "### Part d (4 points)"
   ]
  },
  {
   "cell_type": "markdown",
   "metadata": {},
   "source": [
    "Write a function that takes 2 input values (each input will be a dictionary containing keys: \"suit\" and \"value\").\n",
    "This function should **only** return the card (dictionary) that is the highest number. \n",
    "If both numbers are the same then the function should return the string \"Tie\".\n",
    "\n",
    "**Store** the output of the function as `winning_card` when the function is run using `player1` and `player2` created in **Part c**.\n",
    "\n",
    "Print `winning_card`.\n",
    "\n",
    "Clarification: \n",
    "\n",
    "- 2 < ... < 10 < J < Q < K < A\n",
    "- All suits are the same: 2 of spades = 2 of diamonds\n",
    "- The word input in a function does NOT refer to \"user input\". Recall, a function takes any number of input objects and returns any number of output objects. \n",
    "- This function should not print or return anything other than what was specified above (ie: the winning card or the word \"Tie\")."
   ]
  },
  {
   "cell_type": "code",
   "execution_count": 38,
   "metadata": {},
   "outputs": [
    {
     "name": "stdout",
     "output_type": "stream",
     "text": [
      "{'suit': 'spades', 'value': 3}\n"
     ]
    }
   ],
   "source": [
    "\n",
    "def compare_cards(card1, card2):\n",
    "    value_order = [2, 3, 4, 5, 6, 7, 8, 9, 10, \"J\", \"Q\", \"K\", \"A\"]\n",
    "    value1 = value_order.index(card1[\"value\"])\n",
    "    value2 = value_order.index(card2[\"value\"])\n",
    "    if value1 > value2:\n",
    "        return card1\n",
    "    elif value1 < value2:\n",
    "        return card2\n",
    "    else:\n",
    "        return \"Tie\"\n",
    "winning_card = compare_cards(player1, player2)\n",
    "print(winning_card)"
   ]
  },
  {
   "cell_type": "markdown",
   "metadata": {},
   "source": [
    "### Part e (2 points)"
   ]
  },
  {
   "cell_type": "markdown",
   "metadata": {},
   "source": [
    "Write a conditional statement (using the objects created above) to print one of the following statements:\n",
    "    \n",
    "    - \"Player 1 wins.\"\n",
    "    - \"Player 2 wins.\"\n",
    "    - \"Player 1 and Player 2 tie.\""
   ]
  },
  {
   "cell_type": "code",
   "execution_count": 39,
   "metadata": {},
   "outputs": [
    {
     "name": "stdout",
     "output_type": "stream",
     "text": [
      "Player 1 wins.\n"
     ]
    }
   ],
   "source": [
    "\n",
    "if winning_card == player1:\n",
    "    print(\"Player 1 wins.\")\n",
    "elif winning_card == player2:\n",
    "    print(\"Player 2 wins.\")\n",
    "else:\n",
    "    print(\"Player 1 and Player 2 tie.\")"
   ]
  }
 ],
 "metadata": {
  "kernelspec": {
   "display_name": "Python 3",
   "language": "python",
   "name": "python3"
  },
  "language_info": {
   "codemirror_mode": {
    "name": "ipython",
    "version": 3
   },
   "file_extension": ".py",
   "mimetype": "text/x-python",
   "name": "python",
   "nbconvert_exporter": "python",
   "pygments_lexer": "ipython3",
   "version": "3.13.2"
  }
 },
 "nbformat": 4,
 "nbformat_minor": 4
}
